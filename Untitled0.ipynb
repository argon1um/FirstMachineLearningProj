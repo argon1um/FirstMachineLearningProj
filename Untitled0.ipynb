{
  "nbformat": 4,
  "nbformat_minor": 0,
  "metadata": {
    "colab": {
      "provenance": [],
      "mount_file_id": "1R2MNoxYrAeI0_7J7sXDW9PZOWgy-zfR7",
      "authorship_tag": "ABX9TyMJgXydWVMdArDcYfdQAQtO",
      "include_colab_link": true
    },
    "kernelspec": {
      "name": "python3",
      "display_name": "Python 3"
    },
    "language_info": {
      "name": "python"
    }
  },
  "cells": [
    {
      "cell_type": "markdown",
      "metadata": {
        "id": "view-in-github",
        "colab_type": "text"
      },
      "source": [
        "<a href=\"https://colab.research.google.com/github/argon1um/FirstMachineLearningProj/blob/main/Untitled0.ipynb\" target=\"_parent\"><img src=\"https://colab.research.google.com/assets/colab-badge.svg\" alt=\"Open In Colab\"/></a>"
      ]
    },
    {
      "cell_type": "code",
      "execution_count": 41,
      "metadata": {
        "id": "jMZxzbwDu-N2"
      },
      "outputs": [],
      "source": [
        "import matplotlib.pyplot as plt\n",
        "import numpy as np\n",
        "import PIL\n",
        "import tensorflow as tf\n",
        "\n",
        "from tensorflow import keras\n",
        "from tensorflow.keras import layers\n",
        "from tensorflow.keras.models import Sequential"
      ]
    },
    {
      "cell_type": "code",
      "source": [
        "import pathlib\n",
        "\n",
        "dataset_path = \"/content/drive/MyDrive/flower_photos\"\n",
        "dataset_dir = pathlib.Path(dataset_path).with_suffix('')"
      ],
      "metadata": {
        "id": "mnIqIVUkytNc"
      },
      "execution_count": 42,
      "outputs": []
    },
    {
      "cell_type": "code",
      "source": [
        "image_count = len(list(dataset_dir.glob(\"*/*.jpg\")))\n",
        "print(image_count)"
      ],
      "metadata": {
        "colab": {
          "base_uri": "https://localhost:8080/"
        },
        "id": "wB5tDU7W0AOD",
        "outputId": "55be7dd4-676a-47af-8577-febd51f0d8ca"
      },
      "execution_count": 43,
      "outputs": [
        {
          "output_type": "stream",
          "name": "stdout",
          "text": [
            "3670\n"
          ]
        }
      ]
    },
    {
      "cell_type": "code",
      "source": [
        "batch_size = 32\n",
        "img_width = 180\n",
        "img_height = 180\n",
        "\n",
        "train_ds = tf.keras.utils.image_dataset_from_directory(\n",
        "\tdataset_dir,\n",
        "\tvalidation_split=0.2,\n",
        "\tsubset=\"training\",\n",
        "\tseed=123,\n",
        "\timage_size=(img_height, img_width),\n",
        "\tbatch_size=batch_size)\n",
        "\n",
        "val_ds = tf.keras.utils.image_dataset_from_directory(\n",
        "\tdataset_dir,\n",
        "\tvalidation_split=0.2,\n",
        "\tsubset=\"validation\",\n",
        "\tseed=123,\n",
        "\timage_size=(img_height, img_width),\n",
        "\tbatch_size=batch_size)\n",
        "\n",
        "class_names = train_ds.class_names\n",
        "print(f\"Class names: {class_names}\")\n",
        "\n",
        "# cache\n",
        "AUTOTUNE = tf.data.AUTOTUNE\n",
        "train_ds = train_ds.cache().shuffle(1000).prefetch(buffer_size=AUTOTUNE)\n",
        "val_ds = val_ds.cache().prefetch(buffer_size=AUTOTUNE)\n",
        "\n",
        "# create model\n",
        "num_classes = len(class_names)\n",
        "model = Sequential([\n",
        "\n",
        "\tlayers.experimental.preprocessing.Rescaling(1./255, input_shape=(img_height, img_width, 3)),\n",
        "\n",
        "\n",
        "\tlayers.Conv2D(16, 3, padding='same', activation='relu'),\n",
        "\tlayers.MaxPooling2D(),\n",
        "\n",
        "\tlayers.Conv2D(32, 3, padding='same', activation='relu'),\n",
        "\tlayers.MaxPooling2D(),\n",
        "\n",
        "\tlayers.Conv2D(64, 3, padding='same', activation='relu'),\n",
        "\tlayers.MaxPooling2D(),\n",
        "\n",
        "\tlayers.Flatten(),\n",
        "\tlayers.Dense(128, activation='relu'),\n",
        "\tlayers.Dense(num_classes)\n",
        "])\n",
        "\n",
        "\n",
        "model.compile(\n",
        "\toptimizer='adam',\n",
        "\tloss=tf.keras.losses.SparseCategoricalCrossentropy(from_logits=True),\n",
        "\tmetrics=['accuracy'])\n",
        "\n",
        "\n",
        "model.summary()"
      ],
      "metadata": {
        "id": "ZQaggpHAQ6Ne",
        "colab": {
          "base_uri": "https://localhost:8080/"
        },
        "outputId": "2702d200-8de4-494e-cfeb-a0ed743db73b"
      },
      "execution_count": 44,
      "outputs": [
        {
          "output_type": "stream",
          "name": "stdout",
          "text": [
            "Found 3670 files belonging to 5 classes.\n",
            "Using 2936 files for training.\n",
            "Found 3670 files belonging to 5 classes.\n",
            "Using 734 files for validation.\n",
            "Class names: ['daisy', 'dandelion', 'roses', 'sunflowers', 'tulips']\n",
            "Model: \"sequential_4\"\n",
            "_________________________________________________________________\n",
            " Layer (type)                Output Shape              Param #   \n",
            "=================================================================\n",
            " rescaling_8 (Rescaling)     (None, 180, 180, 3)       0         \n",
            "                                                                 \n",
            " conv2d_12 (Conv2D)          (None, 180, 180, 16)      448       \n",
            "                                                                 \n",
            " max_pooling2d_12 (MaxPooli  (None, 90, 90, 16)        0         \n",
            " ng2D)                                                           \n",
            "                                                                 \n",
            " conv2d_13 (Conv2D)          (None, 90, 90, 32)        4640      \n",
            "                                                                 \n",
            " max_pooling2d_13 (MaxPooli  (None, 45, 45, 32)        0         \n",
            " ng2D)                                                           \n",
            "                                                                 \n",
            " conv2d_14 (Conv2D)          (None, 45, 45, 64)        18496     \n",
            "                                                                 \n",
            " max_pooling2d_14 (MaxPooli  (None, 22, 22, 64)        0         \n",
            " ng2D)                                                           \n",
            "                                                                 \n",
            " flatten_4 (Flatten)         (None, 30976)             0         \n",
            "                                                                 \n",
            " dense_8 (Dense)             (None, 128)               3965056   \n",
            "                                                                 \n",
            " dense_9 (Dense)             (None, 5)                 645       \n",
            "                                                                 \n",
            "=================================================================\n",
            "Total params: 3989285 (15.22 MB)\n",
            "Trainable params: 3989285 (15.22 MB)\n",
            "Non-trainable params: 0 (0.00 Byte)\n",
            "_________________________________________________________________\n"
          ]
        }
      ]
    },
    {
      "cell_type": "code",
      "source": [
        "#train model\n",
        "epochs = 10 # количество эпох тренировки\n",
        "history = model.fit(\n",
        "\ttrain_ds,\n",
        "\tvalidation_data=val_ds,\n",
        "\tepochs=epochs)\n",
        "\n",
        "# visualize training and validation results\n",
        "acc = history.history['accuracy']\n",
        "val_acc = history.history['val_accuracy']\n",
        "\n",
        "loss = history.history['loss']\n",
        "val_loss = history.history['val_loss']\n",
        "\n",
        "epochs_range = range(epochs)\n",
        "\n",
        "plt.figure(figsize=(8, 8))\n",
        "plt.subplot(1, 2, 1)\n",
        "plt.plot(epochs_range, acc, label='Training Accuracy')\n",
        "plt.plot(epochs_range, val_acc, label='Validation Accuracy')\n",
        "plt.legend(loc='lower right')\n",
        "plt.title('Training and Validation Accuracy')\n",
        "\n",
        "plt.subplot(1, 2, 2)\n",
        "plt.plot(epochs_range, loss, label='Training Loss')\n",
        "plt.plot(epochs_range, val_loss, label='Validation Loss')\n",
        "plt.legend(loc='upper right')\n",
        "plt.title('Training and Validation Loss')\n",
        "plt.show()"
      ],
      "metadata": {
        "id": "3OvFnFmnZAfO",
        "colab": {
          "base_uri": "https://localhost:8080/"
        },
        "outputId": "ce4c4f2c-7463-4508-e9e7-0404a7f317eb"
      },
      "execution_count": null,
      "outputs": [
        {
          "output_type": "stream",
          "name": "stdout",
          "text": [
            "Epoch 1/10\n",
            "92/92 [==============================] - ETA: 0s - loss: 1.3604 - accuracy: 0.4114"
          ]
        }
      ]
    },
    {
      "cell_type": "code",
      "source": [],
      "metadata": {
        "id": "GLJU-xAVZA31"
      },
      "execution_count": null,
      "outputs": []
    },
    {
      "cell_type": "code",
      "source": [],
      "metadata": {
        "id": "ASB2Z77eZLRq"
      },
      "execution_count": null,
      "outputs": []
    },
    {
      "cell_type": "code",
      "source": [],
      "metadata": {
        "id": "dEFyeY6XZLlA"
      },
      "execution_count": null,
      "outputs": []
    },
    {
      "cell_type": "code",
      "source": [],
      "metadata": {
        "id": "BMy8rcknZMCq"
      },
      "execution_count": null,
      "outputs": []
    }
  ]
}