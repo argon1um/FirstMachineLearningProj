{
  "nbformat": 4,
  "nbformat_minor": 0,
  "metadata": {
    "colab": {
      "provenance": [],
      "mount_file_id": "1R2MNoxYrAeI0_7J7sXDW9PZOWgy-zfR7",
      "authorship_tag": "ABX9TyNaKBaikEK40vkZK68ClFUV",
      "include_colab_link": true
    },
    "kernelspec": {
      "name": "python3",
      "display_name": "Python 3"
    },
    "language_info": {
      "name": "python"
    }
  },
  "cells": [
    {
      "cell_type": "markdown",
      "metadata": {
        "id": "view-in-github",
        "colab_type": "text"
      },
      "source": [
        "<a href=\"https://colab.research.google.com/github/argon1um/FirstMachineLearningProj/blob/main/Untitled0.ipynb\" target=\"_parent\"><img src=\"https://colab.research.google.com/assets/colab-badge.svg\" alt=\"Open In Colab\"/></a>"
      ]
    },
    {
      "cell_type": "code",
      "execution_count": 1,
      "metadata": {
        "id": "jMZxzbwDu-N2"
      },
      "outputs": [],
      "source": [
        "import matplotlib.pyplot as plt\n",
        "import numpy as np\n",
        "import PIL\n",
        "import tensorflow as tf\n",
        "\n",
        "from tensorflow import keras\n",
        "from tensorflow.keras import layers\n",
        "from tensorflow.keras.models import Sequential"
      ]
    },
    {
      "cell_type": "code",
      "source": [
        "import pathlib\n",
        "\n",
        "dataset_path = \"/content/drive/MyDrive/flower_photos\"\n",
        "dataset_dir = pathlib.Path(dataset_path).with_suffix('')"
      ],
      "metadata": {
        "id": "mnIqIVUkytNc"
      },
      "execution_count": 3,
      "outputs": []
    },
    {
      "cell_type": "code",
      "source": [
        "image_count = len(list(dataset_dir.glob(\"*/*.jpg\")))\n",
        "print(image_count)"
      ],
      "metadata": {
        "colab": {
          "base_uri": "https://localhost:8080/"
        },
        "id": "wB5tDU7W0AOD",
        "outputId": "f41ccf83-8a68-4344-8aac-5166786eeb54"
      },
      "execution_count": 4,
      "outputs": [
        {
          "output_type": "stream",
          "name": "stdout",
          "text": [
            "3670\n"
          ]
        }
      ]
    },
    {
      "cell_type": "code",
      "source": [
        "dataset_dir = pathlib.Path(dataset_path).with_suffix('')\n",
        "batch_size = 32\n",
        "img_width=180\n",
        "img_height=180\n",
        "\n",
        "train_ds = tf.keras.utils.image_dataset_from_directory(\n",
        "    dataset_dir,\n",
        "    validation_split=0.2,\n",
        "    subset=\"training\",\n",
        "    seed=123,\n",
        "    batch_size = batch_size)\n",
        "\n",
        "val_ds = tf.keras.utils.image_dataset_from_directory(\n",
        "    dataset_dir,\n",
        "    validation_split=0.2,\n",
        "    subset=\"validation\",\n",
        "    seed=123,\n",
        "    batch_size = batch_size)\n",
        "\n",
        "class_names = train_ds.class_names\n",
        "print(f\"Class names: {class_names}\")\n",
        "\n",
        "#cache\n",
        "AUTOTUNE = tf.data.AUTOTUNE\n",
        "train_ds = train_ds.cache().shuffle(1000).prefetch(buffer_size=AUTOTUNE)\n",
        "val_ds = val_ds.cache().prefetch(buffer_size=AUTOTUNE)\n",
        "\n",
        "# create model\n",
        "num_classes = len(class_names)\n",
        "model = Sequential([\n",
        "\n",
        "\tlayers.experimental.preprocessing.Rescaling(1./255, input_shape=(img_height, img_width, 3)),\n",
        "\n",
        "\n",
        "\tlayers.Conv2D(16, 3, padding='same', activation='relu'),\n",
        "\tlayers.MaxPooling2D(),\n",
        "\n",
        "\tlayers.Conv2D(32, 3, padding='same', activation='relu'),\n",
        "\tlayers.MaxPooling2D(),\n",
        "\n",
        "\tlayers.Conv2D(64, 3, padding='same', activation='relu'),\n",
        "\tlayers.MaxPooling2D(),\n",
        "\n",
        "\tlayers.Flatten(),\n",
        "\tlayers.Dense(128, activation='relu'),\n",
        "\tlayers.Dense(num_classes)\n",
        "])\n",
        "\n",
        "\n",
        "model.compile(\n",
        "\toptimizer='adam',\n",
        "\tloss=tf.keras.losses.SparseCategoricalCrossentropy(from_logits=True),\n",
        "\tmetrics=['accuracy'])\n",
        "\n",
        "\n",
        "model.summary()"
      ],
      "metadata": {
        "id": "ZQaggpHAQ6Ne"
      },
      "execution_count": null,
      "outputs": []
    },
    {
      "cell_type": "code",
      "source": [],
      "metadata": {
        "id": "3OvFnFmnZAfO"
      },
      "execution_count": null,
      "outputs": []
    },
    {
      "cell_type": "code",
      "source": [],
      "metadata": {
        "id": "GLJU-xAVZA31"
      },
      "execution_count": null,
      "outputs": []
    },
    {
      "cell_type": "code",
      "source": [],
      "metadata": {
        "id": "ASB2Z77eZLRq"
      },
      "execution_count": null,
      "outputs": []
    },
    {
      "cell_type": "code",
      "source": [],
      "metadata": {
        "id": "dEFyeY6XZLlA"
      },
      "execution_count": null,
      "outputs": []
    },
    {
      "cell_type": "code",
      "source": [],
      "metadata": {
        "id": "BMy8rcknZMCq"
      },
      "execution_count": null,
      "outputs": []
    }
  ]
}